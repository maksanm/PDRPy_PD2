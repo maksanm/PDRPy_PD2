{
 "cells": [
  {
   "cell_type": "code",
   "execution_count": null,
   "id": "84aca3b8",
   "metadata": {},
   "outputs": [],
   "source": [
    "import pandas as pd\n",
    "from src.core import DataLoader"
   ]
  },
  {
   "cell_type": "code",
   "execution_count": null,
   "id": "56b25ea4",
   "metadata": {},
   "outputs": [],
   "source": [
    "Ethereum = DataLoader('data/ethereum')"
   ]
  },
  {
   "cell_type": "code",
   "execution_count": null,
   "id": "b358e228",
   "metadata": {},
   "outputs": [],
   "source": [
    "Crypto = DataLoader('data/crypto')"
   ]
  },
  {
   "cell_type": "code",
   "execution_count": null,
   "id": "1134aab2",
   "metadata": {},
   "outputs": [],
   "source": [
    "Christianity = DataLoader('data/christianity')"
   ]
  },
  {
   "cell_type": "code",
   "execution_count": null,
   "id": "9dee0350",
   "metadata": {},
   "outputs": [],
   "source": [
    "Judaism = DataLoader('data/judaism')"
   ]
  }
 ],
 "metadata": {
  "kernelspec": {
   "display_name": "Python 3 (ipykernel)",
   "language": "python",
   "name": "python3"
  },
  "language_info": {
   "codemirror_mode": {
    "name": "ipython",
    "version": 3
   },
   "file_extension": ".py",
   "mimetype": "text/x-python",
   "name": "python",
   "nbconvert_exporter": "python",
   "pygments_lexer": "ipython3",
   "version": "3.10.4"
  }
 },
 "nbformat": 4,
 "nbformat_minor": 5
}
