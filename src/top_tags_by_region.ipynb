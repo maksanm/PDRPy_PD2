{
 "cells": [
  {
   "cell_type": "markdown",
   "id": "abba0a43",
   "metadata": {},
   "source": [
    "# Analiza najpopularniejszych tematów chrześcijaństwa\n",
    "W tym rozdziale zadamy pytanie: jakie tematy są popularne wśród chrześcijan i jakie mogą być przyczyny tej popularności. Popularność będziemy definiować jako sumę UpVote'ów dla postów i odpowiedzi na nich z danym tag'iem."
   ]
  },
  {
   "cell_type": "markdown",
   "id": "c33ebb8e",
   "metadata": {},
   "source": [
    "Najpierw ładujemy wszystkie potrzebne pakiety"
   ]
  },
  {
   "cell_type": "code",
   "execution_count": 2,
   "id": "84aca3b8",
   "metadata": {},
   "outputs": [],
   "source": [
    "import pandas as pd\n",
    "import numpy as np\n",
    "import matplotlib.pyplot as plt\n",
    "import awoc\n",
    "from core import DataLoader"
   ]
  },
  {
   "cell_type": "markdown",
   "id": "58a01935",
   "metadata": {},
   "source": [
    "Dalej ładujemy dane z serwisu \"Christianity.StackExchange\""
   ]
  },
  {
   "cell_type": "code",
   "execution_count": 4,
   "id": "1134aab2",
   "metadata": {},
   "outputs": [],
   "source": [
    "Christianity = DataLoader('../data/christianity')"
   ]
  },
  {
   "cell_type": "markdown",
   "id": "2f0510b5",
   "metadata": {},
   "source": [
    "Dalej konstruujemy zbiór danych do analizy. Najpierw chcemy policzyć liczbę UpVote'ów dla każdego postu"
   ]
  },
  {
   "cell_type": "code",
   "execution_count": null,
   "id": "18b0ba6c",
   "metadata": {},
   "outputs": [],
   "source": [
    "upvotes = Christianity._votes_df.loc[Christianity._votes_df['VoteTypeId'] == 2, ['Id', 'PostId']].groupby('PostId').count()"
   ]
  },
  {
   "cell_type": "markdown",
   "id": "5735916d",
   "metadata": {},
   "source": [
    "Dla ułatwienia policzymy też sumę UpVote'ów dla odpowiedzi pod danym postem"
   ]
  },
  {
   "cell_type": "code",
   "execution_count": null,
   "id": "72a4abb3",
   "metadata": {},
   "outputs": [],
   "source": [
    "posts_with_upvote_count = pd.merge(Christianity._posts_df, upvotes, left_on='Id', right_on='PostId')\n",
    "answers_with_upvote_count = posts_with_upvote_count.loc[posts_with_upvote_count['PostTypeId'] == 2, ['ParentId', 'Id_y']]\\\n",
    "  .groupby('ParentId').sum()"
   ]
  },
  {
   "cell_type": "markdown",
   "id": "332b1c58",
   "metadata": {},
   "source": [
    "Tutaj wyznaczmy tag'i dla postów-zapytań, które mają authora"
   ]
  },
  {
   "cell_type": "code",
   "execution_count": null,
   "id": "9c068575",
   "metadata": {},
   "outputs": [],
   "source": [
    "posts_with_tags = Christianity._posts_df.loc[Christianity._posts_df['PostTypeId'] == 1, ['Id', 'OwnerUserId', 'Tags']]\\\n",
    "  .dropna(subset=['OwnerUserId'], inplace=False)"
   ]
  },
  {
   "cell_type": "markdown",
   "id": "3d0a83a3",
   "metadata": {},
   "source": [
    "Teraz robimy join dla tabeli z tag'ami i dwóch tabeli z UpVote'ami i otrzymujemy posty z tag'ami i UpVote'ami dla nich"
   ]
  },
  {
   "cell_type": "code",
   "execution_count": null,
   "id": "41697d01",
   "metadata": {},
   "outputs": [],
   "source": [
    "posts_with_tags_and_upvotes = pd.merge(posts_with_tags, upvotes, left_on='Id', right_on='PostId')\n",
    "posts_with_tags_and_upvotes = pd.merge(posts_with_tags_and_upvotes, answers_with_upvote_count, left_on='Id_x', right_on='ParentId')\n",
    "posts_with_tags_and_upvotes['UpVotes'] = posts_with_tags_and_upvotes['Id_y_x'] + posts_with_tags_and_upvotes['Id_y_y']\n",
    "posts_with_tags_and_upvotes = posts_with_tags_and_upvotes[['Id_x', 'OwnerUserId', 'UpVotes', 'Tags']]\\\n",
    "  .convert_dtypes()"
   ]
  },
  {
   "cell_type": "markdown",
   "id": "fa88b240",
   "metadata": {},
   "source": [
    "Teraz dołączmy do tych postów ich author, żeby wyznaczyć \"lokalizację\" postu"
   ]
  },
  {
   "cell_type": "code",
   "execution_count": null,
   "id": "f5409d16",
   "metadata": {},
   "outputs": [],
   "source": [
    "posts_with_tags_and_upvotes = pd.merge(posts_with_tags_and_upvotes, Christianity._users_df, left_on='OwnerUserId', right_on='Id')[['Location', 'UpVotes_x', 'Tags']]\\\n",
    "  .dropna(subset=['Location'], inplace=False)"
   ]
  },
  {
   "cell_type": "markdown",
   "id": "325be942",
   "metadata": {},
   "source": [
    "Stworzymy słowniki dla każdego regionu, w których kluczem będzie tag, a wartość - jego popularnością"
   ]
  },
  {
   "cell_type": "code",
   "execution_count": null,
   "id": "82810710",
   "metadata": {},
   "outputs": [],
   "source": [
    "tag_count_europe = {}\n",
    "tag_count_north_america = {}\n",
    "tag_count_south_america = {}\n",
    "tag_count_asia = {}\n",
    "tag_count_africa = {}"
   ]
  },
  {
   "cell_type": "markdown",
   "id": "372d6acc",
   "metadata": {},
   "source": [
    "Czy należy post do danego regionu, będziemy wyznaczać za pomocą lokalizacji jego autora. Dla list krajów dla regionów wykorzystamy pakiet [`awoc`]"
   ]
  },
  {
   "cell_type": "code",
   "execution_count": null,
   "id": "eeb8e611",
   "metadata": {},
   "outputs": [],
   "source": [
    "\n",
    "world = awoc.AWOC()\n",
    "for index, post in posts_with_tags_and_upvotes.iterrows():\n",
    "  if any(map(post['Location'].__contains__, world.get_countries_list_of('North America'))):\n",
    "    for tag in post['Tags'].replace('>', ' ').replace('<', ' ').split():\n",
    "      tag_count_north_america[tag] = tag_count_north_america.get(tag, 0) + post['UpVotes_x']\n",
    "    continue\n",
    "  if any(map(post['Location'].__contains__, world.get_countries_list_of('Europe'))):\n",
    "    for tag in post.loc['Tags'].replace('>', ' ').replace('<', ' ').split():\n",
    "      tag_count_europe[tag] = tag_count_europe.get(tag, 0) + post['UpVotes_x']\n",
    "    continue\n",
    "  if any(map(post['Location'].__contains__, world.get_countries_list_of('South America'))):\n",
    "    for tag in post.loc['Tags'].replace('>', ' ').replace('<', ' ').split():\n",
    "      tag_count_south_america[tag] = tag_count_south_america.get(tag, 0) + post['UpVotes_x']\n",
    "    continue\n",
    "  if any(map(post['Location'].__contains__, world.get_countries_list_of('Asia'))):\n",
    "    for tag in post.loc['Tags'].replace('>', ' ').replace('<', ' ').split():\n",
    "      tag_count_asia[tag] = tag_count_asia.get(tag, 0) + post['UpVotes_x']\n",
    "    continue\n",
    "  if any(map(post['Location'].__contains__, world.get_countries_list_of('Africa'))):\n",
    "    for tag in post.loc['Tags'].replace('>', ' ').replace('<', ' ').split():\n",
    "      tag_count_africa[tag] = tag_count_africa.get(tag, 0) + post['UpVotes_x']"
   ]
  },
  {
   "cell_type": "markdown",
   "id": "a67667a7",
   "metadata": {},
   "source": [
    "Teraz połączymy uzyskane wyniki w jedną tabelę, w którym rekordem będzie tag i jego popularność w każdym regionie"
   ]
  },
  {
   "cell_type": "code",
   "execution_count": 7,
   "id": "e94221b1",
   "metadata": {},
   "outputs": [],
   "source": [
    "tag_count_by_location = pd.DataFrame({'TagName': tag_count_europe.keys(), 'CountInEurope': tag_count_europe.values()})\n",
    "tag_count_by_location = pd.merge(tag_count_by_location, pd.DataFrame({'TagName': tag_count_south_america.keys(), 'CountInSouthAmerica': tag_count_south_america.values()}), how='outer')\n",
    "tag_count_by_location = pd.merge(tag_count_by_location, pd.DataFrame({'TagName': tag_count_asia.keys(), 'CountInAsia': tag_count_asia.values()}), how='outer')\n",
    "tag_count_by_location = pd.merge(tag_count_by_location, pd.DataFrame({'TagName': tag_count_africa.keys(), 'CountInAfrica': tag_count_africa.values()}), how='outer')\n",
    "tag_count_by_location = pd.merge(tag_count_by_location, pd.DataFrame({'TagName': tag_count_north_america.keys(), 'CountInNorthAmerica': tag_count_north_america.values()}), how='outer')\\\n",
    "  .fillna(0)\\\n",
    "  .convert_dtypes()"
   ]
  },
  {
   "cell_type": "markdown",
   "id": "629c12a5",
   "metadata": {},
   "source": [
    "Narysujmy wykres najbardziej popularnych tag'ów dla każdego regionu"
   ]
  },
  {
   "cell_type": "code",
   "execution_count": 23,
   "id": "e1eb8f24",
   "metadata": {},
   "outputs": [
    {
     "data": {
      "image/png": "[encoded data removed]",
      "text/plain": [
       "<Figure size 432x288 with 1 Axes>"
      ]
     },
     "metadata": {
      "needs_background": "light"
     },
     "output_type": "display_data"
    }
   ],
   "source": [
    "bar_width = 1\n",
    "tag_count = 6\n",
    "top_tag_count_in_europe = tag_count_by_location.sort_values(by='CountInEurope', ascending=False).head(tag_count)\n",
    "top_tag_count_in_north_america = tag_count_by_location.sort_values(by='CountInNorthAmerica', ascending=False).head(tag_count)\n",
    "top_tag_count_in_south_america = tag_count_by_location.sort_values(by='CountInSouthAmerica', ascending=False).head(tag_count)\n",
    "top_tag_count_in_africa = tag_count_by_location.sort_values(by='CountInAfrica', ascending=False).head(tag_count)\n",
    "top_tag_count_in_asia = tag_count_by_location.sort_values(by='CountInAsia', ascending=False).head(tag_count)\n",
    "top_tag_count_by_location = pd.merge(top_tag_count_in_europe, top_tag_count_in_north_america, how='outer')\n",
    "top_tag_count_by_location = pd.merge(top_tag_count_by_location, top_tag_count_in_south_america, how='outer')\n",
    "top_tag_count_by_location = pd.merge(top_tag_count_by_location, top_tag_count_in_asia, how='outer')\n",
    "top_tag_count_by_location = pd.merge(top_tag_count_by_location, top_tag_count_in_africa, how='outer').fillna(0)\n",
    "r = range(0, len(top_tag_count_by_location))\n",
    "bottom1 = top_tag_count_by_location['CountInEurope']\n",
    "bottom2 = bottom1 + top_tag_count_by_location['CountInNorthAmerica']\n",
    "bottom3 = bottom2 + top_tag_count_by_location['CountInSouthAmerica']\n",
    "bottom4 = bottom3 + top_tag_count_by_location['CountInAsia']\n",
    "plt.bar(r, top_tag_count_by_location['CountInEurope'], width=bar_width, label='Europe')\n",
    "plt.bar(r, top_tag_count_by_location['CountInNorthAmerica'], bottom=bottom1, width=bar_width, label='North America')\n",
    "plt.bar(r, top_tag_count_by_location['CountInSouthAmerica'], bottom=bottom2, width=bar_width, label='South America')\n",
    "plt.bar(r, top_tag_count_by_location['CountInAsia'], bottom=bottom3, width=bar_width, label='Asia')\n",
    "plt.bar(r, top_tag_count_by_location['CountInAfrica'], bottom=bottom4, width=bar_width, label='Africa')\n",
    "plt.xlabel('Najpopularniejsze tag`i w regionach')\n",
    "plt.xticks(r, top_tag_count_by_location['TagName'], rotation='vertical')\n",
    "plt.legend()\n",
    "plt.show()"
   ]
  },
  {
   "cell_type": "markdown",
   "id": "13cfd746",
   "metadata": {},
   "source": [
    "Z powyższego wykresu możemy wywnioskować kilka rzeczy:\n",
    "1. W Azji jest wiele katolików czy też ciekawskich - исторически так сложилось, объяснить\n",
    "2. Мормоны встечаются чаще всего в Америках\n",
    "3. В Африку почти не завезли христианство и сервисы\n",
    "4. Тоже самое как 2 только для lbs\n",
    "5. Европейцы больше интересуются библией - объяснить\n",
    "6. Сказать, что зная, что в Америке очень развиты подобные сервисы (наверное), то\\\n",
    "3.1 Протестантизм чаще встечается в Европе - логично\n",
    "3.2 Европейцы больше интересуются историей церкви, чем остальные - древнее\n"
   ]
  }
 ],
 "metadata": {
  "interpreter": {
   "hash": "a524bf9124eab6af6be8696dbe1653ba4ef38fd45d54bfe710de2028624ba7ad"
  },
  "kernelspec": {
   "display_name": "Python 3.10.5 64-bit",
   "language": "python",
   "name": "python3"
  },
  "language_info": {
   "codemirror_mode": {
    "name": "ipython",
    "version": 3
   },
   "file_extension": ".py",
   "mimetype": "text/x-python",
   "name": "python",
   "nbconvert_exporter": "python",
   "pygments_lexer": "ipython3",
   "version": "3.10.5"
  }
 },
 "nbformat": 4,
 "nbformat_minor": 5
}
