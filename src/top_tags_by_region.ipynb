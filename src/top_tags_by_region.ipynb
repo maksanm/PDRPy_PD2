{
 "cells": [
  {
   "cell_type": "code",
   "execution_count": 211,
   "id": "84aca3b8",
   "metadata": {},
   "outputs": [],
   "source": [
    "import pandas as pd\n",
    "import numpy as np\n",
    "import matplotlib.pyplot as plt\n",
    "from countrygroups import EUROPEAN_UNION\n",
    "from core import DataLoader"
   ]
  },
  {
   "cell_type": "code",
   "execution_count": 3,
   "id": "56b25ea4",
   "metadata": {},
   "outputs": [],
   "source": [
    "Ethereum = DataLoader('../data/ethereum')"
   ]
  },
  {
   "cell_type": "code",
   "execution_count": 4,
   "id": "b358e228",
   "metadata": {},
   "outputs": [],
   "source": [
    "Crypto = DataLoader('../data/crypto')"
   ]
  },
  {
   "cell_type": "code",
   "execution_count": 167,
   "id": "1134aab2",
   "metadata": {},
   "outputs": [],
   "source": [
    "Christianity = DataLoader('../data/christianity')"
   ]
  },
  {
   "cell_type": "code",
   "execution_count": 6,
   "id": "9dee0350",
   "metadata": {},
   "outputs": [],
   "source": [
    "Judaism = DataLoader('../data/judaism')"
   ]
  },
  {
   "cell_type": "code",
   "execution_count": null,
   "id": "e94221b1",
   "metadata": {},
   "outputs": [],
   "source": [
    "tag_count_eu = {}\n",
    "tag_count_usa = {}\n",
    "usa_names = ['USA', 'United States', 'US']\n",
    "upvotes = Christianity._votes_df.loc[Christianity._votes_df['VoteTypeId'] == 2, ['Id', 'PostId']].groupby('PostId').count()\n",
    "posts_with_upvote_count = pd.merge(Christianity._posts_df, upvotes, left_on='Id', right_on='PostId')\n",
    "answers_with_upvote_count = posts_with_upvote_count.loc[posts_with_upvote_count['PostTypeId'] == 2, ['ParentId', 'Id_y']]\\\n",
    "  .groupby('ParentId').sum()\n",
    "answers_with_upvote_count.head()\n",
    "posts_with_tags = Christianity._posts_df.loc[Christianity._posts_df['PostTypeId'] == 1, ['Id', 'OwnerUserId', 'Tags']]\\\n",
    "  .dropna(subset=['OwnerUserId'], inplace=False)\n",
    "posts_with_tags = pd.merge(posts_with_tags, upvotes, left_on='Id', right_on='PostId')\n",
    "posts_with_tags_and_upvotes = pd.merge(posts_with_tags, answers_with_upvote_count, left_on='Id_x', right_on='ParentId')\n",
    "posts_with_tags_and_upvotes['UpVotes'] = posts_with_tags_and_upvotes['Id_y_x'] + posts_with_tags_and_upvotes['Id_y_y']\n",
    "posts_with_tags_and_upvotes = posts_with_tags_and_upvotes[['Id_x', 'OwnerUserId', 'UpVotes', 'Tags']]\\\n",
    "  .convert_dtypes()\n",
    "posts_with_tags_and_upvotes = pd.merge(posts_with_tags_and_upvotes, Christianity._users_df, left_on='OwnerUserId', right_on='Id')[['Location', 'UpVotes_x', 'Tags']]\\\n",
    "  .dropna(subset=['Location'], inplace=False)\n",
    "for index, post in posts_with_tags_and_upvotes.iterrows():\n",
    "  if any(map(post['Location'].__contains__, usa_names)):\n",
    "    for tag in post['Tags'].replace('>', ' ').replace('<', ' ').split():\n",
    "      tag_count_usa[tag] = tag_count_usa.get(tag, 0) + post['UpVotes_x']\n",
    "    continue\n",
    "  if any(map(post['Location'].__contains__, EUROPEAN_UNION.names)):\n",
    "    for tag in post.loc['Tags'].replace('>', ' ').replace('<', ' ').split():\n",
    "      tag_count_eu[tag] = tag_count_eu.get(tag, 0) + post['UpVotes_x']\n",
    "tag_count_by_location = pd.DataFrame({'TagName': tag_count_eu.keys(), 'CountInEU': tag_count_eu.values()})\n",
    "tag_count_by_location = pd.merge(tag_count_by_location, pd.DataFrame({'TagName': tag_count_usa.keys(), 'CountInUSA': tag_count_usa.values()}), how='outer')\\\n",
    "  .fillna(0)\\\n",
    "  .convert_dtypes()"
   ]
  },
  {
   "cell_type": "code",
   "execution_count": 303,
   "id": "e1eb8f24",
   "metadata": {},
   "outputs": [
    {
     "data": {
      "image/png": "[encoded data removed]",
      "text/plain": [
       "<Figure size 432x288 with 1 Axes>"
      ]
     },
     "metadata": {
      "needs_background": "light"
     },
     "output_type": "display_data"
    }
   ],
   "source": [
    "bar_width = 0.25\n",
    "tag_count = 10\n",
    "top_tag_count_in_eu = tag_count_by_location.sort_values(by='CountInEU', ascending=False).head(tag_count)\n",
    "top_tag_count_in_usa = tag_count_by_location.sort_values(by='CountInUSA', ascending=False).head(tag_count)\n",
    "top_tag_count_by_location = pd.merge(top_tag_count_in_eu, top_tag_count_in_usa, how='outer').fillna(0)\n",
    "top_tag_count_in_usa\n",
    "r1 = np.arange(len(top_tag_count_by_location))\n",
    "r2 = [x + bar_width for x in r1]\n",
    "plt.bar(r1, top_tag_count_by_location['CountInEU'], width=bar_width, label='EU')\n",
    "plt.bar(r2, top_tag_count_by_location['CountInUSA'], width=bar_width, label='USA')\n",
    "plt.xlabel('Najpopularniejsze tag`i w regionach')\n",
    "plt.xticks([r + bar_width for r in range(len(top_tag_count_by_location))], top_tag_count_by_location['TagName'], rotation='vertical')\n",
    "plt.legend()\n",
    "plt.show()"
   ]
  }
 ],
 "metadata": {
  "interpreter": {
   "hash": "a524bf9124eab6af6be8696dbe1653ba4ef38fd45d54bfe710de2028624ba7ad"
  },
  "kernelspec": {
   "display_name": "Python 3.10.5 64-bit",
   "language": "python",
   "name": "python3"
  },
  "language_info": {
   "codemirror_mode": {
    "name": "ipython",
    "version": 3
   },
   "file_extension": ".py",
   "mimetype": "text/x-python",
   "name": "python",
   "nbconvert_exporter": "python",
   "pygments_lexer": "ipython3",
   "version": "3.10.5"
  }
 },
 "nbformat": 4,
 "nbformat_minor": 5
}
