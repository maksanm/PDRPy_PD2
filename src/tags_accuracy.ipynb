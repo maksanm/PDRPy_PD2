{
 "cells": [
  {
   "cell_type": "code",
   "execution_count": 1,
   "id": "86a51eed",
   "metadata": {},
   "outputs": [],
   "source": [
    "import pandas as pd\n",
    "from matplotlib import pyplot as plt\n",
    "from core import DataLoader"
   ]
  },
  {
   "cell_type": "code",
   "execution_count": 2,
   "id": "f7a1eee2",
   "metadata": {},
   "outputs": [],
   "source": [
    "Christianity = DataLoader('../data/christianity')"
   ]
  },
  {
   "cell_type": "code",
   "execution_count": 3,
   "id": "9dee0350",
   "metadata": {},
   "outputs": [],
   "source": [
    "Judaism = DataLoader('../data/judaism')"
   ]
  },
  {
   "cell_type": "markdown",
   "id": "cb79b58c",
   "metadata": {},
   "source": [
    "## Związek wzrostów użycia tagów z wydarzeniami światu rzeczywistego\n",
    "\n",
    "Chcemy przeanalizować związek między wzrostem częstotliwości wystąpienia postów z wybranymi tagami w latach a wydarzeniami na świecie związanymi z tymi tagami. W tym celu najpierw obliczymy rozkład częstotliwości pojawienia się postów posiadających przekazane tagi.\n",
    "\n",
    "Funkcja zwracająca ilość wystąpień postów z tagami **tags**."
   ]
  },
  {
   "cell_type": "code",
   "execution_count": 54,
   "id": "1d6bbbf1",
   "metadata": {},
   "outputs": [],
   "source": [
    "def tags_accuracy_by_years(data, tags):\n",
    "    posts = data.posts_df.set_index('Id')\n",
    "    post_history = data.postHistory_df.set_index('PostId')\n",
    "    df = posts.merge(post_history, left_on='Id', right_on='PostId', how='inner', suffixes=('Posts', 'History'))\n",
    "    posts_with_tags = df[df.Tags.str.contains('|'.join(tags), na=False) & df.PostHistoryTypeId == 1]\n",
    "    posts_with_tags.CreationDatePosts = pd.to_datetime(posts_with_tags.CreationDatePosts)\n",
    "    result = pd.DataFrame({\n",
    "        'CreationYear': posts_with_tags.CreationDatePosts.dt.year})\n",
    "    return result.groupby(['CreationYear'])['CreationYear'].size()"
   ]
  },
  {
   "cell_type": "markdown",
   "id": "1afcdc4a",
   "metadata": {},
   "source": [
    "Spróbujemy znaleźć wzrosty wystąpień tagów związanych z LGBT w latach, kiedy miały miejsce poważne protesty przeciwko dyskryminacji."
   ]
  },
  {
   "cell_type": "code",
   "execution_count": 55,
   "id": "26f26ceb",
   "metadata": {},
   "outputs": [
    {
     "name": "stderr",
     "output_type": "stream",
     "text": [
      "C:\\Users\\forti\\AppData\\Local\\Temp\\ipykernel_4492\\356626897.py:6: SettingWithCopyWarning: \n",
      "A value is trying to be set on a copy of a slice from a DataFrame.\n",
      "Try using .loc[row_indexer,col_indexer] = value instead\n",
      "\n",
      "See the caveats in the documentation: https://pandas.pydata.org/pandas-docs/stable/user_guide/indexing.html#returning-a-view-versus-a-copy\n",
      "  posts_with_tags.CreationDatePosts = pd.to_datetime(posts_with_tags.CreationDatePosts)\n",
      "C:\\Users\\forti\\AppData\\Local\\Temp\\ipykernel_4492\\356626897.py:6: SettingWithCopyWarning: \n",
      "A value is trying to be set on a copy of a slice from a DataFrame.\n",
      "Try using .loc[row_indexer,col_indexer] = value instead\n",
      "\n",
      "See the caveats in the documentation: https://pandas.pydata.org/pandas-docs/stable/user_guide/indexing.html#returning-a-view-versus-a-copy\n",
      "  posts_with_tags.CreationDatePosts = pd.to_datetime(posts_with_tags.CreationDatePosts)\n"
     ]
    },
    {
     "data": {
      "text/plain": [
       "<AxesSubplot:xlabel='CreationYear'>"
      ]
     },
     "execution_count": 55,
     "metadata": {},
     "output_type": "execute_result"
    },
    {
     "data": {
      "image/png": "[encoded data removed]",
      "text/plain": [
       "<Figure size 432x288 with 1 Axes>"
      ]
     },
     "metadata": {
      "needs_background": "light"
     },
     "output_type": "display_data"
    }
   ],
   "source": [
    "tags = ['<homosexuality>', '<pride>']\n",
    "\n",
    "chris = tags_accuracy_by_years(Christianity, tags)\n",
    "jud = tags_accuracy_by_years(Judaism, tags)\n",
    "\n",
    "result = pd.DataFrame({'Christian': chris, 'Judaism': jud})\n",
    "result.plot.bar(rot=0)"
   ]
  },
  {
   "cell_type": "markdown",
   "id": "ec36b11a",
   "metadata": {},
   "source": [
    "Widzimy mocny wzrost częstotliwości pojawienia się tagów w 2014 roku dla zbioru danych z forumu o chrześcijaństwie, który może być związany z protestami podczas igrzysk olimpijskiсh (https://en.wikipedia.org/wiki/LGBT_rights_protests_surrounding_the_2014_Winter_Olympics).\n",
    "\n",
    "Również możemy obserwować wsrost w 2018 roku dla zbioru z forumu o judaizmie. Ten wzrost może być związany z protestami w Izraelu (https://en.wikipedia.org/wiki/2018_Israeli_LGBT%27s_strike#:~:text=On%20July%2022%2C%202018%20Israeli,towards%20the%20Israeli%20trans%20community).\n",
    "\n",
    "Teraz spróbujemy sprawdzić, czy wzrost wystąpień LGBT-tagów w 2018 roku rzeczywiście jest związany z protestami w Izraelu. W tym celu znajdziemy rozkład częstotliwości wystąpień ww. tagów w krajach w 2018 roku.\n",
    "\n",
    "Funkcja zwracająca iłość wystąpień postów z tagami **tags** w roku **year** w **n_countries** krajach wskazanych przez największą iłość użytkowników."
   ]
  },
  {
   "cell_type": "code",
   "execution_count": 56,
   "id": "e7e30180",
   "metadata": {},
   "outputs": [],
   "source": [
    "def tags_accuracy_by_countries_at_year(data, tags, year, n_countries):\n",
    "    users = pd.concat([Christianity.users_df, Judaism.users_df], sort=False)\n",
    "    countries = [c for c in calculate_countries(users, n_countries) if type(c) == str]\n",
    "\n",
    "    posts = data.posts_df.set_index('OwnerUserId')\n",
    "    users = data.users_df.set_index('Id')\n",
    "    users = standardize_countries(users)\n",
    "    \n",
    "    df = posts.merge(users, left_on='OwnerUserId', right_on='Id', how='inner', suffixes=('Posts', 'Users'))\n",
    "    df.CreationDatePosts = pd.to_datetime(df.CreationDatePosts)\n",
    "\n",
    "    posts_with_tags = df[df.Tags.str.contains('|'.join(tags), na=False) \n",
    "        & (df.Location.str.contains('|'.join(countries), na=False)) \n",
    "        & (df.CreationDatePosts.dt.year == year)]\n",
    "    result = pd.DataFrame({\n",
    "        'Country': posts_with_tags.Location})\n",
    "\n",
    "    return result.groupby(by=result.Country).size()"
   ]
  },
  {
   "cell_type": "markdown",
   "id": "d2f3856f",
   "metadata": {},
   "source": [
    "Funkcja zwracająca **n_countries** krajów wskazanych przez największą iłość użytkowników."
   ]
  },
  {
   "cell_type": "code",
   "execution_count": 57,
   "metadata": {},
   "outputs": [],
   "source": [
    "def calculate_countries(users, n_countries):\n",
    "    users = standardize_countries(users)\n",
    "    s = users.groupby(['Location']).size()\n",
    "    d = pd.DataFrame({'Country': s.index, 'Number': s.values})\n",
    "    d = d.sort_values(by=['Number'], ascending=False)\n",
    "    \n",
    "    return d['Country'][:n_countries]"
   ]
  },
  {
   "cell_type": "markdown",
   "id": "5ff9dfcc",
   "metadata": {},
   "source": [
    "Skoro serwisy StackExchange pozwolają użytkownikom na wprowadzenie czegokolwiek do pola **Location**, żeby usyzkać rozsądne dane do analizy musimy przeprowadzić pewną normalizację tych danych. Ta normalizacja będzie polegała na poszukiwaniu w pole **Location** podciągów zawierających nazwę albo skrót krainy i oraz podmianie tego pola na zapowiedzianą nazwę kraju.\n",
    "\n",
    "Funkcja przyjmująca dataframe **users** i zwracająca ten sam dataframe o znormalizowanym polu **Location**."
   ]
  },
  {
   "cell_type": "code",
   "execution_count": 58,
   "metadata": {
    "vscode": {
     "languageId": "markdown"
    }
   },
   "outputs": [],
   "source": [
    "def standardize_countries(users):\n",
    "    aliases = {\n",
    "        'USA': ['USA', 'US', 'United States'],\n",
    "        'UK': ['UK', 'United Kingdom', 'GB', 'Great Britain'],\n",
    "        'Israil': ['Israil', 'Israel'],\n",
    "        'France': ['France'],\n",
    "        'Germany': ['Germany'],\n",
    "        'India': ['India'],\n",
    "        'Thailand': ['Thai'],\n",
    "        'Indonesia': ['Indonesia'],\n",
    "        'Brazil': ['Brazil'],\n",
    "        'Australia': ['Australia'],\n",
    "        'Canada': ['Canada'],\n",
    "        'Poland': ['Poland'],\n",
    "        'Russia': ['Russia'],\n",
    "    }\n",
    "    \n",
    "    for alias, names in aliases.items():\n",
    "        for country in names:\n",
    "            users['Location'] = users['Location'].apply(\n",
    "                lambda x: alias \n",
    "                if x and country in str(x) \n",
    "                else x)\n",
    "\n",
    "    users['Location'] = users['Location'].apply(\n",
    "        lambda x: x[x.rindex(','):].replace(',', '').replace(' ', '') \n",
    "        if type(x) == str and ',' in x \n",
    "        else x)\n",
    "    \n",
    "    return users\n",
    "            "
   ]
  },
  {
   "cell_type": "markdown",
   "id": "e690556b",
   "metadata": {},
   "source": [
    "Spróbujemy znaleźć iłość wystąpień LGBT-tagów w 2018 roku w 50 krajach o największej liczbie użytkowników."
   ]
  },
  {
   "cell_type": "code",
   "execution_count": 60,
   "metadata": {
    "vscode": {
     "languageId": "markdown"
    }
   },
   "outputs": [
    {
     "data": {
      "text/plain": [
       "<AxesSubplot:xlabel='Country'>"
      ]
     },
     "execution_count": 60,
     "metadata": {},
     "output_type": "execute_result"
    },
    {
     "data": {
      "image/png": "[encoded data removed]",
      "text/plain": [
       "<Figure size 432x288 with 1 Axes>"
      ]
     },
     "metadata": {
      "needs_background": "light"
     },
     "output_type": "display_data"
    }
   ],
   "source": [
    "tags = ['<homosexuality>', '<pride>']\n",
    "n_countries = 50\n",
    "year = 2018\n",
    "\n",
    "jud = tags_accuracy_by_countries_at_year(Judaism, tags, year, n_countries)\n",
    "\n",
    "result = pd.DataFrame({'Judaism': jud})\n",
    "\n",
    "result.plot.bar(rot=0)"
   ]
  },
  {
   "cell_type": "markdown",
   "id": "3cd93253",
   "metadata": {},
   "source": [
    "Otrzymane wyniki mogą wydawać się dziwne. Rzeczywiście, pierwsza część analizy pokazała, że w 2018 roku powstały 34 posty, przecież spośród 50 krajów o największej iłości użytkowników znaleźliśmy tylko 3 posty o podanych tagach. Jednak da się wyprowadzić z tego kilka ważnych wniosków:\n",
    "\n",
    "1. W skutek tego, że wybrany zbiór danych nie ma ustawionego formatu lokalizacji, analiza tych danych jest bardzo utrudniona, a zaimplementowany algorytm normalizacji jest nie wystarczająco *mądry*. Możemy stwierdzić, że wybrany dataset nie odpowiada tego typu analizie.\n",
    "\n",
    "2. Nie wykryliśmy wzrostu wykorzystania wybranych tagów w Izraelu, a zatem wzrost wystąpień LGBT-tagów w 2018 roku nie jest związany z protestami. Czyli, w badanym zbiorze danych częstotliwości wystąpienia postów z wybranymi tagami w latach nie są związane z wydarzeniami na świecie związanymi z tymi tagami."
   ]
  }
 ],
 "metadata": {
  "interpreter": {
   "hash": "46e2a5a52fc87e7b3971674ab61c7a71c5b735c20ca7eb87462f23e545190b81"
  },
  "kernelspec": {
   "display_name": "Python 3.10.4 64-bit",
   "language": "python",
   "name": "python3"
  },
  "language_info": {
   "codemirror_mode": {
    "name": "ipython",
    "version": 3
   },
   "file_extension": ".py",
   "mimetype": "text/x-python",
   "name": "python",
   "nbconvert_exporter": "python",
   "pygments_lexer": "ipython3",
   "version": "3.10.4"
  }
 },
 "nbformat": 4,
 "nbformat_minor": 5
}
