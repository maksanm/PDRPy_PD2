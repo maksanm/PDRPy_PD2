{
 "cells": [
  {
   "cell_type": "code",
   "execution_count": 5,
   "id": "86a51eed",
   "metadata": {},
   "outputs": [],
   "source": [
    "import pandas as pd\n",
    "import numpy as np\n",
    "from core import DataLoader\n",
    "import warnings\n",
    "\n",
    "warnings.filterwarnings(\"ignore\")"
   ]
  },
  {
   "cell_type": "code",
   "execution_count": 6,
   "id": "f7a1eee2",
   "metadata": {},
   "outputs": [],
   "source": [
    "Christianity = DataLoader('../data/christianity')"
   ]
  },
  {
   "cell_type": "code",
   "execution_count": 7,
   "id": "9dee0350",
   "metadata": {},
   "outputs": [],
   "source": [
    "Judaism = DataLoader('../data/judaism')"
   ]
  },
  {
   "cell_type": "code",
   "execution_count": 8,
   "id": "1d6bbbf1",
   "metadata": {},
   "outputs": [],
   "source": [
    "def calculate_years_for_tags(data, tags):\n",
    "    posts = data._posts_df.set_index('Id')\n",
    "    post_history = data._postHistory_df.set_index('PostId')\n",
    "    df = posts.merge(post_history, left_on='Id', right_on='PostId', how='inner', suffixes=('Posts', 'History'))\n",
    "    posts_with_tags = df[df.Tags.str.contains('|'.join(tags), na=False)]\n",
    "    posts_with_tags.CreationDate = pd.to_datetime(posts_with_tags.CreationDate)\n",
    "    result = pd.DataFrame({\n",
    "        'CreationYear': posts_with_tags.CreationDate.dt.year})\n",
    "    return result"
   ]
  },
  {
   "cell_type": "code",
   "execution_count": 10,
   "id": "26f26ceb",
   "metadata": {},
   "outputs": [
    {
     "data": {
      "text/plain": [
       "<AxesSubplot:xlabel='CreationYear'>"
      ]
     },
     "execution_count": 10,
     "metadata": {},
     "output_type": "execute_result"
    },
    {
     "data": {
      "image/png": "[encoded data removed]",
      "text/plain": [
       "<Figure size 432x288 with 1 Axes>"
      ]
     },
     "metadata": {
      "needs_background": "light"
     },
     "output_type": "display_data"
    }
   ],
   "source": [
    "tags = ['<homosexuality>']\n",
    "\n",
    "chris = calculate_years_for_tags(Christianity, tags)\n",
    "chris = chris.groupby(['CreationYear'])['CreationYear'].size()\n",
    "\n",
    "jud = calculate_years_for_tags(Judaism, tags)\n",
    "jud = jud.groupby(['CreationYear'])['CreationYear'].count()\n",
    "\n",
    "result = pd.DataFrame({'Christian': chris, 'Judaism': jud})\n",
    "\n",
    "result.plot.bar(rot=0)"
   ]
  },
  {
   "cell_type": "code",
   "execution_count": 127,
   "id": "e7e30180",
   "metadata": {},
   "outputs": [],
   "source": [
    "def calculate_countries_for_tags_at_year(data, tags, year, n_countries):\n",
    "    users = pd.concat([Christianity._users_df, Judaism._users_df], sort=False)\n",
    "    countries = calculate_countries(users, n_countries)\n",
    "    print(countries)\n",
    "\n",
    "    posts = data._posts_df.set_index('OwnerUserId')\n",
    "    users = data._users_df.set_index('Id')\n",
    "    df = posts.merge(users, left_on='OwnerUserId', right_on='Id', how='inner', suffixes=('Posts', 'Users'))\n",
    "    df.CreationDatePosts = pd.to_datetime(df.CreationDatePosts)\n",
    "    \n",
    "    posts_with_tags = df[df.Tags.str.contains('|'.join(tags), na=False)\n",
    "     & df.Location.str.contains('|'.join(countries), na=False)\n",
    "     & df.CreationDatePosts.dt.year == year]\n",
    "    result = pd.DataFrame({\n",
    "        'Country': posts_with_tags.Location})\n",
    "\n",
    "    return result"
   ]
  },
  {
   "cell_type": "code",
   "execution_count": 125,
   "metadata": {},
   "outputs": [],
   "source": [
    "def calculate_countries(users, n_countries):\n",
    "    users = standardize_countries(users)\n",
    "    users['Number'] = users.groupby(['Location'])['Location'].transform('count')\n",
    "    users = users.sort_values(by=['Number'], ascending=False)\n",
    "    countries = pd.DataFrame({\n",
    "        'Country': users.Location,\n",
    "        'Number': users.Number\n",
    "    })\n",
    "    return countries['Country'][0:n_countries]"
   ]
  },
  {
   "cell_type": "code",
   "execution_count": 131,
   "metadata": {},
   "outputs": [],
   "source": [
    "def standardize_countries(users):\n",
    "    aliases = {\n",
    "        'USA': ['USA', 'US', 'United States'],\n",
    "        'UK': ['UK', 'United Kingdom', 'GB', 'Great Britain'],\n",
    "        'Israil': ['Israil', 'Israel'],\n",
    "        'France': ['France'],\n",
    "        'Germany': ['Germany'],\n",
    "        'India': ['India'],\n",
    "        'Thailand': ['Thai'],\n",
    "        'Indonesia': ['Indonesia'],\n",
    "        'Brazil': ['Brazil'],\n",
    "        'Australia': ['Australia'],\n",
    "        'Canada': ['Canada'],\n",
    "        'Poland': ['Poland'],\n",
    "        'Russia': ['Russia'],\n",
    "    }\n",
    "    \n",
    "    for alias, names in aliases.items():\n",
    "        for country in names:\n",
    "            users[users['Location'].str.contains(country, na=False)]['Location'] = alias\n",
    "\n",
    "    return users\n",
    "            "
   ]
  },
  {
   "cell_type": "code",
   "execution_count": 132,
   "metadata": {},
   "outputs": [
    {
     "name": "stdout",
     "output_type": "stream",
     "text": [
      "29201    United States\n",
      "21332    United States\n",
      "2254     United States\n",
      "8582     United States\n",
      "5167     United States\n",
      "630      United States\n",
      "32780    United States\n",
      "2245     United States\n",
      "638      United States\n",
      "12508    United States\n",
      "Name: Country, dtype: object\n",
      "29201    United States\n",
      "21332    United States\n",
      "2254     United States\n",
      "8582     United States\n",
      "5167     United States\n",
      "630      United States\n",
      "32780    United States\n",
      "2245     United States\n",
      "638      United States\n",
      "12508    United States\n",
      "Name: Country, dtype: object\n"
     ]
    },
    {
     "ename": "IndexError",
     "evalue": "index 0 is out of bounds for axis 0 with size 0",
     "output_type": "error",
     "traceback": [
      "\u001b[1;31m---------------------------------------------------------------------------\u001b[0m",
      "\u001b[1;31mIndexError\u001b[0m                                Traceback (most recent call last)",
      "\u001b[1;32md:\\Dev\\Studies\\5\\PDRPy\\PD2\\src\\notebook.ipynb Cell 9'\u001b[0m in \u001b[0;36m<cell line: 13>\u001b[1;34m()\u001b[0m\n\u001b[0;32m      <a href='vscode-notebook-cell:/d%3A/Dev/Studies/5/PDRPy/PD2/src/notebook.ipynb#ch0000020?line=8'>9</a>\u001b[0m jud \u001b[39m=\u001b[39m jud\u001b[39m.\u001b[39mgroupby(by\u001b[39m=\u001b[39mjud\u001b[39m.\u001b[39mCountry)\u001b[39m.\u001b[39msize()\n\u001b[0;32m     <a href='vscode-notebook-cell:/d%3A/Dev/Studies/5/PDRPy/PD2/src/notebook.ipynb#ch0000020?line=10'>11</a>\u001b[0m result \u001b[39m=\u001b[39m pd\u001b[39m.\u001b[39mDataFrame({\u001b[39m'\u001b[39m\u001b[39mChristian\u001b[39m\u001b[39m'\u001b[39m: chris, \u001b[39m'\u001b[39m\u001b[39mJudaism\u001b[39m\u001b[39m'\u001b[39m: jud})\n\u001b[1;32m---> <a href='vscode-notebook-cell:/d%3A/Dev/Studies/5/PDRPy/PD2/src/notebook.ipynb#ch0000020?line=12'>13</a>\u001b[0m result\u001b[39m.\u001b[39;49mplot\u001b[39m.\u001b[39;49mbar(rot\u001b[39m=\u001b[39;49m\u001b[39m0\u001b[39;49m)\n",
      "File \u001b[1;32mc:\\Users\\forti\\AppData\\Local\\Programs\\Python\\Python310\\lib\\site-packages\\pandas\\plotting\\_core.py:1131\u001b[0m, in \u001b[0;36mPlotAccessor.bar\u001b[1;34m(self, x, y, **kwargs)\u001b[0m\n\u001b[0;32m   <a href='file:///c%3A/Users/forti/AppData/Local/Programs/Python/Python310/lib/site-packages/pandas/plotting/_core.py?line=1042'>1043</a>\u001b[0m \u001b[39m@Appender\u001b[39m(\n\u001b[0;32m   <a href='file:///c%3A/Users/forti/AppData/Local/Programs/Python/Python310/lib/site-packages/pandas/plotting/_core.py?line=1043'>1044</a>\u001b[0m     \u001b[39m\"\"\"\u001b[39;00m\n\u001b[0;32m   <a href='file:///c%3A/Users/forti/AppData/Local/Programs/Python/Python310/lib/site-packages/pandas/plotting/_core.py?line=1044'>1045</a>\u001b[0m \u001b[39m    See Also\u001b[39;00m\n\u001b[1;32m   (...)\u001b[0m\n\u001b[0;32m   <a href='file:///c%3A/Users/forti/AppData/Local/Programs/Python/Python310/lib/site-packages/pandas/plotting/_core.py?line=1119'>1120</a>\u001b[0m \u001b[39m@Appender\u001b[39m(_bar_or_line_doc)\n\u001b[0;32m   <a href='file:///c%3A/Users/forti/AppData/Local/Programs/Python/Python310/lib/site-packages/pandas/plotting/_core.py?line=1120'>1121</a>\u001b[0m \u001b[39mdef\u001b[39;00m \u001b[39mbar\u001b[39m(\u001b[39mself\u001b[39m, x\u001b[39m=\u001b[39m\u001b[39mNone\u001b[39;00m, y\u001b[39m=\u001b[39m\u001b[39mNone\u001b[39;00m, \u001b[39m*\u001b[39m\u001b[39m*\u001b[39mkwargs):\n\u001b[0;32m   <a href='file:///c%3A/Users/forti/AppData/Local/Programs/Python/Python310/lib/site-packages/pandas/plotting/_core.py?line=1121'>1122</a>\u001b[0m     \u001b[39m\"\"\"\u001b[39;00m\n\u001b[0;32m   <a href='file:///c%3A/Users/forti/AppData/Local/Programs/Python/Python310/lib/site-packages/pandas/plotting/_core.py?line=1122'>1123</a>\u001b[0m \u001b[39m    Vertical bar plot.\u001b[39;00m\n\u001b[0;32m   <a href='file:///c%3A/Users/forti/AppData/Local/Programs/Python/Python310/lib/site-packages/pandas/plotting/_core.py?line=1123'>1124</a>\u001b[0m \n\u001b[1;32m   (...)\u001b[0m\n\u001b[0;32m   <a href='file:///c%3A/Users/forti/AppData/Local/Programs/Python/Python310/lib/site-packages/pandas/plotting/_core.py?line=1128'>1129</a>\u001b[0m \u001b[39m    other axis represents a measured value.\u001b[39;00m\n\u001b[0;32m   <a href='file:///c%3A/Users/forti/AppData/Local/Programs/Python/Python310/lib/site-packages/pandas/plotting/_core.py?line=1129'>1130</a>\u001b[0m \u001b[39m    \"\"\"\u001b[39;00m\n\u001b[1;32m-> <a href='file:///c%3A/Users/forti/AppData/Local/Programs/Python/Python310/lib/site-packages/pandas/plotting/_core.py?line=1130'>1131</a>\u001b[0m     \u001b[39mreturn\u001b[39;00m \u001b[39mself\u001b[39m(kind\u001b[39m=\u001b[39m\u001b[39m\"\u001b[39m\u001b[39mbar\u001b[39m\u001b[39m\"\u001b[39m, x\u001b[39m=\u001b[39mx, y\u001b[39m=\u001b[39my, \u001b[39m*\u001b[39m\u001b[39m*\u001b[39mkwargs)\n",
      "File \u001b[1;32mc:\\Users\\forti\\AppData\\Local\\Programs\\Python\\Python310\\lib\\site-packages\\pandas\\plotting\\_core.py:972\u001b[0m, in \u001b[0;36mPlotAccessor.__call__\u001b[1;34m(self, *args, **kwargs)\u001b[0m\n\u001b[0;32m    <a href='file:///c%3A/Users/forti/AppData/Local/Programs/Python/Python310/lib/site-packages/pandas/plotting/_core.py?line=968'>969</a>\u001b[0m             label_name \u001b[39m=\u001b[39m label_kw \u001b[39mor\u001b[39;00m data\u001b[39m.\u001b[39mcolumns\n\u001b[0;32m    <a href='file:///c%3A/Users/forti/AppData/Local/Programs/Python/Python310/lib/site-packages/pandas/plotting/_core.py?line=969'>970</a>\u001b[0m             data\u001b[39m.\u001b[39mcolumns \u001b[39m=\u001b[39m label_name\n\u001b[1;32m--> <a href='file:///c%3A/Users/forti/AppData/Local/Programs/Python/Python310/lib/site-packages/pandas/plotting/_core.py?line=971'>972</a>\u001b[0m \u001b[39mreturn\u001b[39;00m plot_backend\u001b[39m.\u001b[39mplot(data, kind\u001b[39m=\u001b[39mkind, \u001b[39m*\u001b[39m\u001b[39m*\u001b[39mkwargs)\n",
      "File \u001b[1;32mc:\\Users\\forti\\AppData\\Local\\Programs\\Python\\Python310\\lib\\site-packages\\pandas\\plotting\\_matplotlib\\__init__.py:71\u001b[0m, in \u001b[0;36mplot\u001b[1;34m(data, kind, **kwargs)\u001b[0m\n\u001b[0;32m     <a href='file:///c%3A/Users/forti/AppData/Local/Programs/Python/Python310/lib/site-packages/pandas/plotting/_matplotlib/__init__.py?line=68'>69</a>\u001b[0m         kwargs[\u001b[39m\"\u001b[39m\u001b[39max\u001b[39m\u001b[39m\"\u001b[39m] \u001b[39m=\u001b[39m \u001b[39mgetattr\u001b[39m(ax, \u001b[39m\"\u001b[39m\u001b[39mleft_ax\u001b[39m\u001b[39m\"\u001b[39m, ax)\n\u001b[0;32m     <a href='file:///c%3A/Users/forti/AppData/Local/Programs/Python/Python310/lib/site-packages/pandas/plotting/_matplotlib/__init__.py?line=69'>70</a>\u001b[0m plot_obj \u001b[39m=\u001b[39m PLOT_CLASSES[kind](data, \u001b[39m*\u001b[39m\u001b[39m*\u001b[39mkwargs)\n\u001b[1;32m---> <a href='file:///c%3A/Users/forti/AppData/Local/Programs/Python/Python310/lib/site-packages/pandas/plotting/_matplotlib/__init__.py?line=70'>71</a>\u001b[0m plot_obj\u001b[39m.\u001b[39;49mgenerate()\n\u001b[0;32m     <a href='file:///c%3A/Users/forti/AppData/Local/Programs/Python/Python310/lib/site-packages/pandas/plotting/_matplotlib/__init__.py?line=71'>72</a>\u001b[0m plot_obj\u001b[39m.\u001b[39mdraw()\n\u001b[0;32m     <a href='file:///c%3A/Users/forti/AppData/Local/Programs/Python/Python310/lib/site-packages/pandas/plotting/_matplotlib/__init__.py?line=72'>73</a>\u001b[0m \u001b[39mreturn\u001b[39;00m plot_obj\u001b[39m.\u001b[39mresult\n",
      "File \u001b[1;32mc:\\Users\\forti\\AppData\\Local\\Programs\\Python\\Python310\\lib\\site-packages\\pandas\\plotting\\_matplotlib\\core.py:336\u001b[0m, in \u001b[0;36mMPLPlot.generate\u001b[1;34m(self)\u001b[0m\n\u001b[0;32m    <a href='file:///c%3A/Users/forti/AppData/Local/Programs/Python/Python310/lib/site-packages/pandas/plotting/_matplotlib/core.py?line=333'>334</a>\u001b[0m \u001b[39mfor\u001b[39;00m ax \u001b[39min\u001b[39;00m \u001b[39mself\u001b[39m\u001b[39m.\u001b[39maxes:\n\u001b[0;32m    <a href='file:///c%3A/Users/forti/AppData/Local/Programs/Python/Python310/lib/site-packages/pandas/plotting/_matplotlib/core.py?line=334'>335</a>\u001b[0m     \u001b[39mself\u001b[39m\u001b[39m.\u001b[39m_post_plot_logic_common(ax, \u001b[39mself\u001b[39m\u001b[39m.\u001b[39mdata)\n\u001b[1;32m--> <a href='file:///c%3A/Users/forti/AppData/Local/Programs/Python/Python310/lib/site-packages/pandas/plotting/_matplotlib/core.py?line=335'>336</a>\u001b[0m     \u001b[39mself\u001b[39;49m\u001b[39m.\u001b[39;49m_post_plot_logic(ax, \u001b[39mself\u001b[39;49m\u001b[39m.\u001b[39;49mdata)\n",
      "File \u001b[1;32mc:\\Users\\forti\\AppData\\Local\\Programs\\Python\\Python310\\lib\\site-packages\\pandas\\plotting\\_matplotlib\\core.py:1577\u001b[0m, in \u001b[0;36mBarPlot._post_plot_logic\u001b[1;34m(self, ax, data)\u001b[0m\n\u001b[0;32m   <a href='file:///c%3A/Users/forti/AppData/Local/Programs/Python/Python310/lib/site-packages/pandas/plotting/_matplotlib/core.py?line=1573'>1574</a>\u001b[0m     str_index \u001b[39m=\u001b[39m [pprint_thing(key) \u001b[39mfor\u001b[39;00m key \u001b[39min\u001b[39;00m \u001b[39mrange\u001b[39m(data\u001b[39m.\u001b[39mshape[\u001b[39m0\u001b[39m])]\n\u001b[0;32m   <a href='file:///c%3A/Users/forti/AppData/Local/Programs/Python/Python310/lib/site-packages/pandas/plotting/_matplotlib/core.py?line=1574'>1575</a>\u001b[0m name \u001b[39m=\u001b[39m \u001b[39mself\u001b[39m\u001b[39m.\u001b[39m_get_index_name()\n\u001b[1;32m-> <a href='file:///c%3A/Users/forti/AppData/Local/Programs/Python/Python310/lib/site-packages/pandas/plotting/_matplotlib/core.py?line=1576'>1577</a>\u001b[0m s_edge \u001b[39m=\u001b[39m \u001b[39mself\u001b[39;49m\u001b[39m.\u001b[39;49max_pos[\u001b[39m0\u001b[39;49m] \u001b[39m-\u001b[39m \u001b[39m0.25\u001b[39m \u001b[39m+\u001b[39m \u001b[39mself\u001b[39m\u001b[39m.\u001b[39mlim_offset\n\u001b[0;32m   <a href='file:///c%3A/Users/forti/AppData/Local/Programs/Python/Python310/lib/site-packages/pandas/plotting/_matplotlib/core.py?line=1577'>1578</a>\u001b[0m e_edge \u001b[39m=\u001b[39m \u001b[39mself\u001b[39m\u001b[39m.\u001b[39max_pos[\u001b[39m-\u001b[39m\u001b[39m1\u001b[39m] \u001b[39m+\u001b[39m \u001b[39m0.25\u001b[39m \u001b[39m+\u001b[39m \u001b[39mself\u001b[39m\u001b[39m.\u001b[39mbar_width \u001b[39m+\u001b[39m \u001b[39mself\u001b[39m\u001b[39m.\u001b[39mlim_offset\n\u001b[0;32m   <a href='file:///c%3A/Users/forti/AppData/Local/Programs/Python/Python310/lib/site-packages/pandas/plotting/_matplotlib/core.py?line=1579'>1580</a>\u001b[0m \u001b[39mself\u001b[39m\u001b[39m.\u001b[39m_decorate_ticks(ax, name, str_index, s_edge, e_edge)\n",
      "\u001b[1;31mIndexError\u001b[0m: index 0 is out of bounds for axis 0 with size 0"
     ]
    },
    {
     "data": {
      "image/png": "[encoded data removed]",
      "text/plain": [
       "<Figure size 432x288 with 1 Axes>"
      ]
     },
     "metadata": {
      "needs_background": "light"
     },
     "output_type": "display_data"
    }
   ],
   "source": [
    "tags = ['<homosexuality>']\n",
    "n_countries = 10\n",
    "year = 2018\n",
    "\n",
    "chris = calculate_countries_for_tags_at_year(Christianity, tags, year, n_countries)\n",
    "chris = chris.groupby(by=chris.Country).size()\n",
    "\n",
    "jud = calculate_countries_for_tags_at_year(Judaism, tags, year, n_countries)\n",
    "jud = jud.groupby(by=jud.Country).size()\n",
    "\n",
    "result = pd.DataFrame({'Christian': chris, 'Judaism': jud})\n",
    "\n",
    "result.plot.bar(rot=0)"
   ]
  }
 ],
 "metadata": {
  "interpreter": {
   "hash": "46e2a5a52fc87e7b3971674ab61c7a71c5b735c20ca7eb87462f23e545190b81"
  },
  "kernelspec": {
   "display_name": "Python 3.10.4 64-bit",
   "language": "python",
   "name": "python3"
  },
  "language_info": {
   "codemirror_mode": {
    "name": "ipython",
    "version": 3
   },
   "file_extension": ".py",
   "mimetype": "text/x-python",
   "name": "python",
   "nbconvert_exporter": "python",
   "pygments_lexer": "ipython3",
   "version": "3.10.4"
  }
 },
 "nbformat": 4,
 "nbformat_minor": 5
}
